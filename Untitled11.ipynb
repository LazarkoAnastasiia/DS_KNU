{
  "nbformat": 4,
  "nbformat_minor": 0,
  "metadata": {
    "kernelspec": {
      "display_name": "Python 3",
      "language": "python",
      "name": "python3"
    },
    "language_info": {
      "codemirror_mode": {
        "name": "ipython",
        "version": 3
      },
      "file_extension": ".py",
      "mimetype": "text/x-python",
      "name": "python",
      "nbconvert_exporter": "python",
      "pygments_lexer": "ipython3",
      "version": "3.8.5"
    },
    "colab": {
      "name": "Untitled11.ipynb",
      "provenance": [],
      "include_colab_link": true
    }
  },
  "cells": [
    {
      "cell_type": "markdown",
      "metadata": {
        "id": "view-in-github",
        "colab_type": "text"
      },
      "source": [
        "<a href=\"https://colab.research.google.com/github/LazarkoAnastasiia/DS_KNU/blob/main/Untitled11.ipynb\" target=\"_parent\"><img src=\"https://colab.research.google.com/assets/colab-badge.svg\" alt=\"Open In Colab\"/></a>"
      ]
    },
    {
      "cell_type": "code",
      "metadata": {
        "id": "A4a3bLR-rEUe",
        "outputId": "e4fa6ced-c25e-4285-c94e-c87a755dc5fc"
      },
      "source": [
        "import pandas as pd\n",
        "census_df = pd.read_csv('C:/Users/Xiaomi/Downloads/census.csv')\n",
        "def answer_six():\n",
        "    df=census_df[census_df['SUMLEV'] == 50]\n",
        "    df1=df.sort_values(['STNAME','POPESTIMATE2010'],ascending=False).groupby('STNAME').head(3)\n",
        "    df2 = df1.reset_index().groupby(\"STNAME\").sum().sort_values(['POPESTIMATE2010'],ascending=False).head(3)\n",
        "    return list(df2.index.values)\n",
        "answer_six()"
      ],
      "execution_count": null,
      "outputs": [
        {
          "output_type": "execute_result",
          "data": {
            "text/plain": [
              "['California', 'Texas', 'Illinois']"
            ]
          },
          "metadata": {
            "tags": []
          },
          "execution_count": 2
        }
      ]
    },
    {
      "cell_type": "code",
      "metadata": {
        "id": "Ib5zXiexrEUf"
      },
      "source": [
        ""
      ],
      "execution_count": null,
      "outputs": []
    }
  ]
}