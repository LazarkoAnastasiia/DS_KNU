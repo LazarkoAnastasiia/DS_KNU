{
  "nbformat": 4,
  "nbformat_minor": 0,
  "metadata": {
    "kernelspec": {
      "display_name": "Python 3",
      "language": "python",
      "name": "python3"
    },
    "language_info": {
      "codemirror_mode": {
        "name": "ipython",
        "version": 3
      },
      "file_extension": ".py",
      "mimetype": "text/x-python",
      "name": "python",
      "nbconvert_exporter": "python",
      "pygments_lexer": "ipython3",
      "version": "3.8.5"
    },
    "colab": {
      "name": "Untitled14.ipynb",
      "provenance": [],
      "include_colab_link": true
    }
  },
  "cells": [
    {
      "cell_type": "markdown",
      "metadata": {
        "id": "view-in-github",
        "colab_type": "text"
      },
      "source": [
        "<a href=\"https://colab.research.google.com/github/LazarkoAnastasiia/DS_KNU/blob/main/Untitled14.ipynb\" target=\"_parent\"><img src=\"https://colab.research.google.com/assets/colab-badge.svg\" alt=\"Open In Colab\"/></a>"
      ]
    },
    {
      "cell_type": "code",
      "metadata": {
        "id": "5RWpbIEX3Njz",
        "outputId": "8e2f7a32-e47a-4612-9b3a-8faa898026c4"
      },
      "source": [
        "# Я обрала базу даних з інформацією щодо видобутку та переробки уранової сировини\n",
        "#Даний документ містить такі стовбці \"Рік, місяць, вид діяльності, вид продукту, кількість, вартість\"\n",
        "#Джерело даних: https://data.gov.ua/dataset/d1be130c-4b9d-4790-a44d-05caefc41fed\n",
        "# В даному фрагменті я продемонструвала базу даних\n",
        "\n",
        "def print_full(x):\n",
        "    pd.set_option('display.max_rows', len(x))\n",
        "    print(x)\n",
        "    pd.reset_option('display.max_rows')\n",
        "import pandas as pd\n",
        "import numpy as np\n",
        "uranus = pd.read_excel('D:/Дз/Пайтон/nuclear_production.xlsx')\n",
        "uranus.set_index('year', inplace=True)\n",
        "del uranus['code']\n",
        "del uranus['enterprise']\n",
        "\n",
        "print(uranus)\n"
      ],
      "execution_count": null,
      "outputs": [
        {
          "output_type": "stream",
          "text": [
            "      month     activity product    amount      cost\n",
            "year                                                \n",
            "2018      1    видобуток      УР  60095.00       NaN\n",
            "2018      1  виробництво     УОК    139.20  429966.4\n",
            "2018      2    видобуток      УР  57140.00       NaN\n",
            "2018      2  виробництво     УОК    162.30  504702.3\n",
            "2018      3    видобуток      УР  61277.00       NaN\n",
            "...     ...          ...     ...       ...       ...\n",
            "2021      2  виробництво     УОК     31.37   91340.0\n",
            "2021      3    видобуток      УР  45708.00       NaN\n",
            "2021      3  виробництво     УОК     49.80  145183.6\n",
            "2021      4    видобуток      УР  42771.00       NaN\n",
            "2021      4  виробництво     УОК     37.80  110073.6\n",
            "\n",
            "[80 rows x 5 columns]\n"
          ],
          "name": "stdout"
        }
      ]
    },
    {
      "cell_type": "code",
      "metadata": {
        "id": "8zp2SCet3Nj2",
        "outputId": "77c4a52e-785f-4aa2-a4b2-1190f72634da"
      },
      "source": [
        "#Завдання 1: знайти середню вартість для таких видів активності як \"видобуток\" та \"виробництво\" вцілому за весь період діяльності\n",
        "def answer_one():\n",
        "    \n",
        "    p= uranus.sort_values(by=['year'],ascending=True)\n",
        "    k = uranus.groupby([\"activity\"]).mean()\n",
        "    #print(k['amount'])\n",
        "    l = uranus[['cost']].max()\n",
        "    res = [uranus['cost'].idxmax(), uranus['cost'].max()]\n",
        "    \n",
        "    #print(res)\n",
        "    return k['amount']\n",
        "answer_one()"
      ],
      "execution_count": null,
      "outputs": [
        {
          "output_type": "execute_result",
          "data": {
            "text/plain": [
              "activity\n",
              "видобуток      49279.05000\n",
              "виробництво       71.88025\n",
              "Name: amount, dtype: float64"
            ]
          },
          "metadata": {
            "tags": []
          },
          "execution_count": 62
        }
      ]
    },
    {
      "cell_type": "code",
      "metadata": {
        "id": "7jp41mFC3Nj3",
        "outputId": "90fca024-41d0-4930-c8f1-4a41ab0d7d59"
      },
      "source": [
        "#Завдання 2: Яка найбільша вартість виробництва уранової руди та у якому році було дане значення\n",
        "def answer_two():\n",
        "    \n",
        "    p= uranus.sort_values(by=['year'],ascending=True)\n",
        "    res = [uranus['cost'].idxmax(), uranus['cost'].max()]\n",
        "    return res\n",
        "answer_two()"
      ],
      "execution_count": null,
      "outputs": [
        {
          "output_type": "execute_result",
          "data": {
            "text/plain": [
              "[2018, 616335.5]"
            ]
          },
          "metadata": {
            "tags": []
          },
          "execution_count": 63
        }
      ]
    },
    {
      "cell_type": "code",
      "metadata": {
        "id": "61baORZd3Nj3",
        "outputId": "43bb449d-fa43-40a4-94de-d32e8060e464"
      },
      "source": [
        "#Завдання 3: згрупувати дані по роках та визначити середні значення кількості та вартості створення уранової руди по кожному з років\n",
        "def answer_three():\n",
        "    df_3 = uranus.copy()\n",
        "    p = df_3.sort_values(by=['year'],ascending=True)\n",
        "    k = df_3.groupby([\"year\"]).mean(['cost','amount'])\n",
        "    del k [\"month\"]\n",
        "    p['year'] = p[['cost']].mean(axis=1)\n",
        "    return k\n",
        "answer_three()"
      ],
      "execution_count": null,
      "outputs": [
        {
          "output_type": "execute_result",
          "data": {
            "text/html": [
              "<div>\n",
              "<style scoped>\n",
              "    .dataframe tbody tr th:only-of-type {\n",
              "        vertical-align: middle;\n",
              "    }\n",
              "\n",
              "    .dataframe tbody tr th {\n",
              "        vertical-align: top;\n",
              "    }\n",
              "\n",
              "    .dataframe thead th {\n",
              "        text-align: right;\n",
              "    }\n",
              "</style>\n",
              "<table border=\"1\" class=\"dataframe\">\n",
              "  <thead>\n",
              "    <tr style=\"text-align: right;\">\n",
              "      <th></th>\n",
              "      <th>amount</th>\n",
              "      <th>cost</th>\n",
              "    </tr>\n",
              "    <tr>\n",
              "      <th>year</th>\n",
              "      <th></th>\n",
              "      <th></th>\n",
              "    </tr>\n",
              "  </thead>\n",
              "  <tbody>\n",
              "    <tr>\n",
              "      <th>2018</th>\n",
              "      <td>30022.729167</td>\n",
              "      <td>299085.091667</td>\n",
              "    </tr>\n",
              "    <tr>\n",
              "      <th>2019</th>\n",
              "      <td>23295.162500</td>\n",
              "      <td>156063.883333</td>\n",
              "    </tr>\n",
              "    <tr>\n",
              "      <th>2020</th>\n",
              "      <td>22453.611250</td>\n",
              "      <td>172801.575000</td>\n",
              "    </tr>\n",
              "    <tr>\n",
              "      <th>2021</th>\n",
              "      <td>19440.142500</td>\n",
              "      <td>110071.800000</td>\n",
              "    </tr>\n",
              "  </tbody>\n",
              "</table>\n",
              "</div>"
            ],
            "text/plain": [
              "            amount           cost\n",
              "year                             \n",
              "2018  30022.729167  299085.091667\n",
              "2019  23295.162500  156063.883333\n",
              "2020  22453.611250  172801.575000\n",
              "2021  19440.142500  110071.800000"
            ]
          },
          "metadata": {
            "tags": []
          },
          "execution_count": 64
        }
      ]
    },
    {
      "cell_type": "code",
      "metadata": {
        "id": "oz8uefeM3Nj4",
        "outputId": "7d4fef20-b35d-4f31-d7b3-3772df500616"
      },
      "source": [
        "#Завдання 4: Згрупувати дані за видом діяльності (видобуток та виробництво) та за місяцями, знайти середнє значення видобутого та виробленого урану по кожному місяці року \n",
        "def answer_four():\n",
        "    df_4 = uranus.copy()\n",
        "    print(df_4)\n",
        "    del df_4['cost']\n",
        "    k = df_4.groupby([ 'activity','month',]).mean()\n",
        "    return k\n",
        "answer_four()"
      ],
      "execution_count": null,
      "outputs": [
        {
          "output_type": "stream",
          "text": [
            "      month     activity product    amount      cost\n",
            "year                                                \n",
            "2018      1    видобуток      УР  60095.00       NaN\n",
            "2018      1  виробництво     УОК    139.20  429966.4\n",
            "2018      2    видобуток      УР  57140.00       NaN\n",
            "2018      2  виробництво     УОК    162.30  504702.3\n",
            "2018      3    видобуток      УР  61277.00       NaN\n",
            "...     ...          ...     ...       ...       ...\n",
            "2021      2  виробництво     УОК     31.37   91340.0\n",
            "2021      3    видобуток      УР  45708.00       NaN\n",
            "2021      3  виробництво     УОК     49.80  145183.6\n",
            "2021      4    видобуток      УР  42771.00       NaN\n",
            "2021      4  виробництво     УОК     37.80  110073.6\n",
            "\n",
            "[80 rows x 5 columns]\n"
          ],
          "name": "stdout"
        },
        {
          "output_type": "execute_result",
          "data": {
            "text/html": [
              "<div>\n",
              "<style scoped>\n",
              "    .dataframe tbody tr th:only-of-type {\n",
              "        vertical-align: middle;\n",
              "    }\n",
              "\n",
              "    .dataframe tbody tr th {\n",
              "        vertical-align: top;\n",
              "    }\n",
              "\n",
              "    .dataframe thead th {\n",
              "        text-align: right;\n",
              "    }\n",
              "</style>\n",
              "<table border=\"1\" class=\"dataframe\">\n",
              "  <thead>\n",
              "    <tr style=\"text-align: right;\">\n",
              "      <th></th>\n",
              "      <th></th>\n",
              "      <th>amount</th>\n",
              "    </tr>\n",
              "    <tr>\n",
              "      <th>activity</th>\n",
              "      <th>month</th>\n",
              "      <th></th>\n",
              "    </tr>\n",
              "  </thead>\n",
              "  <tbody>\n",
              "    <tr>\n",
              "      <th rowspan=\"12\" valign=\"top\">видобуток</th>\n",
              "      <th>1</th>\n",
              "      <td>45039.000000</td>\n",
              "    </tr>\n",
              "    <tr>\n",
              "      <th>2</th>\n",
              "      <td>46715.500000</td>\n",
              "    </tr>\n",
              "    <tr>\n",
              "      <th>3</th>\n",
              "      <td>50515.000000</td>\n",
              "    </tr>\n",
              "    <tr>\n",
              "      <th>4</th>\n",
              "      <td>48736.500000</td>\n",
              "    </tr>\n",
              "    <tr>\n",
              "      <th>5</th>\n",
              "      <td>38963.333333</td>\n",
              "    </tr>\n",
              "    <tr>\n",
              "      <th>6</th>\n",
              "      <td>45135.666667</td>\n",
              "    </tr>\n",
              "    <tr>\n",
              "      <th>7</th>\n",
              "      <td>55893.333333</td>\n",
              "    </tr>\n",
              "    <tr>\n",
              "      <th>8</th>\n",
              "      <td>51481.333333</td>\n",
              "    </tr>\n",
              "    <tr>\n",
              "      <th>9</th>\n",
              "      <td>51789.000000</td>\n",
              "    </tr>\n",
              "    <tr>\n",
              "      <th>10</th>\n",
              "      <td>58932.666667</td>\n",
              "    </tr>\n",
              "    <tr>\n",
              "      <th>11</th>\n",
              "      <td>57653.666667</td>\n",
              "    </tr>\n",
              "    <tr>\n",
              "      <th>12</th>\n",
              "      <td>42530.333333</td>\n",
              "    </tr>\n",
              "    <tr>\n",
              "      <th rowspan=\"12\" valign=\"top\">виробництво</th>\n",
              "      <th>1</th>\n",
              "      <td>84.392500</td>\n",
              "    </tr>\n",
              "    <tr>\n",
              "      <th>2</th>\n",
              "      <td>77.310000</td>\n",
              "    </tr>\n",
              "    <tr>\n",
              "      <th>3</th>\n",
              "      <td>80.825000</td>\n",
              "    </tr>\n",
              "    <tr>\n",
              "      <th>4</th>\n",
              "      <td>66.925000</td>\n",
              "    </tr>\n",
              "    <tr>\n",
              "      <th>5</th>\n",
              "      <td>53.066667</td>\n",
              "    </tr>\n",
              "    <tr>\n",
              "      <th>6</th>\n",
              "      <td>75.466667</td>\n",
              "    </tr>\n",
              "    <tr>\n",
              "      <th>7</th>\n",
              "      <td>79.166667</td>\n",
              "    </tr>\n",
              "    <tr>\n",
              "      <th>8</th>\n",
              "      <td>75.766667</td>\n",
              "    </tr>\n",
              "    <tr>\n",
              "      <th>9</th>\n",
              "      <td>63.233333</td>\n",
              "    </tr>\n",
              "    <tr>\n",
              "      <th>10</th>\n",
              "      <td>42.800000</td>\n",
              "    </tr>\n",
              "    <tr>\n",
              "      <th>11</th>\n",
              "      <td>87.233333</td>\n",
              "    </tr>\n",
              "    <tr>\n",
              "      <th>12</th>\n",
              "      <td>69.066667</td>\n",
              "    </tr>\n",
              "  </tbody>\n",
              "</table>\n",
              "</div>"
            ],
            "text/plain": [
              "                         amount\n",
              "activity    month              \n",
              "видобуток   1      45039.000000\n",
              "            2      46715.500000\n",
              "            3      50515.000000\n",
              "            4      48736.500000\n",
              "            5      38963.333333\n",
              "            6      45135.666667\n",
              "            7      55893.333333\n",
              "            8      51481.333333\n",
              "            9      51789.000000\n",
              "            10     58932.666667\n",
              "            11     57653.666667\n",
              "            12     42530.333333\n",
              "виробництво 1         84.392500\n",
              "            2         77.310000\n",
              "            3         80.825000\n",
              "            4         66.925000\n",
              "            5         53.066667\n",
              "            6         75.466667\n",
              "            7         79.166667\n",
              "            8         75.766667\n",
              "            9         63.233333\n",
              "            10        42.800000\n",
              "            11        87.233333\n",
              "            12        69.066667"
            ]
          },
          "metadata": {
            "tags": []
          },
          "execution_count": 69
        }
      ]
    },
    {
      "cell_type": "code",
      "metadata": {
        "id": "p7R4mHi73Nj4",
        "outputId": "bde26831-3805-4492-ff8d-90e9520a01cf"
      },
      "source": [
        "#Завдання 5: Знайти ціну за 1 одиницю виробленого урану( шляхом ділення вартості на кількість), згрупувати дані по роках, щоб знайти середню ціну по кожному року\n",
        "\n",
        "def answer_five():\n",
        "    print(uranus)\n",
        "    df_5 = uranus.copy()\n",
        "    del df_5['month']\n",
        "    df_5.dropna(subset=['cost'], inplace = True)\n",
        "    df_5['price'] = df_5['cost']/df_5['amount']\n",
        "    k = df_5.groupby([\"year\"]).mean()\n",
        "    return   k\n",
        "answer_five()"
      ],
      "execution_count": null,
      "outputs": [
        {
          "output_type": "stream",
          "text": [
            "      month     activity product    amount      cost\n",
            "year                                                \n",
            "2018      1    видобуток      УР  60095.00       NaN\n",
            "2018      1  виробництво     УОК    139.20  429966.4\n",
            "2018      2    видобуток      УР  57140.00       NaN\n",
            "2018      2  виробництво     УОК    162.30  504702.3\n",
            "2018      3    видобуток      УР  61277.00       NaN\n",
            "...     ...          ...     ...       ...       ...\n",
            "2021      2  виробництво     УОК     31.37   91340.0\n",
            "2021      3    видобуток      УР  45708.00       NaN\n",
            "2021      3  виробництво     УОК     49.80  145183.6\n",
            "2021      4    видобуток      УР  42771.00       NaN\n",
            "2021      4  виробництво     УОК     37.80  110073.6\n",
            "\n",
            "[80 rows x 5 columns]\n"
          ],
          "name": "stdout"
        },
        {
          "output_type": "execute_result",
          "data": {
            "text/html": [
              "<div>\n",
              "<style scoped>\n",
              "    .dataframe tbody tr th:only-of-type {\n",
              "        vertical-align: middle;\n",
              "    }\n",
              "\n",
              "    .dataframe tbody tr th {\n",
              "        vertical-align: top;\n",
              "    }\n",
              "\n",
              "    .dataframe thead th {\n",
              "        text-align: right;\n",
              "    }\n",
              "</style>\n",
              "<table border=\"1\" class=\"dataframe\">\n",
              "  <thead>\n",
              "    <tr style=\"text-align: right;\">\n",
              "      <th></th>\n",
              "      <th>amount</th>\n",
              "      <th>cost</th>\n",
              "      <th>price</th>\n",
              "    </tr>\n",
              "    <tr>\n",
              "      <th>year</th>\n",
              "      <th></th>\n",
              "      <th></th>\n",
              "      <th></th>\n",
              "    </tr>\n",
              "  </thead>\n",
              "  <tbody>\n",
              "    <tr>\n",
              "      <th>2018</th>\n",
              "      <td>98.291667</td>\n",
              "      <td>299085.091667</td>\n",
              "      <td>3027.822467</td>\n",
              "    </tr>\n",
              "    <tr>\n",
              "      <th>2019</th>\n",
              "      <td>66.741667</td>\n",
              "      <td>156063.883333</td>\n",
              "      <td>2293.601916</td>\n",
              "    </tr>\n",
              "    <tr>\n",
              "      <th>2020</th>\n",
              "      <td>61.972500</td>\n",
              "      <td>172801.575000</td>\n",
              "      <td>2778.780627</td>\n",
              "    </tr>\n",
              "    <tr>\n",
              "      <th>2021</th>\n",
              "      <td>37.785000</td>\n",
              "      <td>110071.800000</td>\n",
              "      <td>2912.843275</td>\n",
              "    </tr>\n",
              "  </tbody>\n",
              "</table>\n",
              "</div>"
            ],
            "text/plain": [
              "         amount           cost        price\n",
              "year                                       \n",
              "2018  98.291667  299085.091667  3027.822467\n",
              "2019  66.741667  156063.883333  2293.601916\n",
              "2020  61.972500  172801.575000  2778.780627\n",
              "2021  37.785000  110071.800000  2912.843275"
            ]
          },
          "metadata": {
            "tags": []
          },
          "execution_count": 68
        }
      ]
    },
    {
      "cell_type": "code",
      "metadata": {
        "id": "lXCwq_BP3Nj5"
      },
      "source": [
        ""
      ],
      "execution_count": null,
      "outputs": []
    }
  ]
}