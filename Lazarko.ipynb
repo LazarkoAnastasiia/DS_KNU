{
  "nbformat": 4,
  "nbformat_minor": 0,
  "metadata": {
    "kernelspec": {
      "display_name": "Python 3",
      "language": "python",
      "name": "python3"
    },
    "language_info": {
      "codemirror_mode": {
        "name": "ipython",
        "version": 3
      },
      "file_extension": ".py",
      "mimetype": "text/x-python",
      "name": "python",
      "nbconvert_exporter": "python",
      "pygments_lexer": "ipython3",
      "version": "3.8.5"
    },
    "colab": {
      "name": "Lazarko.ipynb",
      "provenance": [],
      "include_colab_link": true
    }
  },
  "cells": [
    {
      "cell_type": "markdown",
      "metadata": {
        "id": "view-in-github",
        "colab_type": "text"
      },
      "source": [
        "<a href=\"https://colab.research.google.com/github/LazarkoAnastasiia/DS_KNU/blob/main/Lazarko.ipynb\" target=\"_parent\"><img src=\"https://colab.research.google.com/assets/colab-badge.svg\" alt=\"Open In Colab\"/></a>"
      ]
    },
    {
      "cell_type": "code",
      "metadata": {
        "id": "EUYLMIyw6A6U"
      },
      "source": [
        ""
      ],
      "execution_count": null,
      "outputs": []
    },
    {
      "cell_type": "code",
      "metadata": {
        "id": "6ZrjYXel6A6Z",
        "outputId": "6dd775ed-fb07-4d52-e2fa-1efbac29a216"
      },
      "source": [
        "#Assign the number 31 to a new variable, q. Write an expression that raises q to the 4th power\n",
        "my_list = ['hello world',3,5,7]\n",
        "print(my_list)\n",
        "my_tuple = (1,2,['a','b'],4,5)\n",
        "print(my_tuple)\n",
        "my_dict = {1: 'one', 2: 'two', 3: 'three'}\n",
        "print(my_dict)"
      ],
      "execution_count": null,
      "outputs": [
        {
          "output_type": "stream",
          "text": [
            "['hello world', 3, 5, 7]\n",
            "(1, 2, ['a', 'b'], 4, 5)\n",
            "{1: 'one', 2: 'two', 3: 'three'}\n"
          ],
          "name": "stdout"
        }
      ]
    },
    {
      "cell_type": "code",
      "metadata": {
        "id": "MCvrUIS-6A6a"
      },
      "source": [
        "#Create arbitrary list, tuple and dictionary and print them\n",
        "import numpy as np\n",
        "s = np.random.normal(0,1,100)\n",
        "l=s[10]\n",
        "m=s[10:20]\n",
        "t=s[s>0]\n",
        "print(l)\n",
        "print(t)\n",
        "print(m)"
      ],
      "execution_count": null,
      "outputs": []
    },
    {
      "cell_type": "code",
      "metadata": {
        "id": "NNlfB6IH6A6b",
        "outputId": "9d0632fc-d745-4a37-e838-c1b0f74b5ff5"
      },
      "source": [
        "\n",
        "#Make a function pow that raised base number to a fixed power power. If power >= 50 print message \"power is too big\" and return -1\n",
        "def pow (number, power):\n",
        "    if power >= 50:\n",
        "        print(\"power is too big\")\n",
        "        return -1\n",
        "    if power==0:\n",
        "        return 1\n",
        "    else:\n",
        "        y= number ** power\n",
        "        return y\n",
        "        \n",
        "pow(2,4)\n",
        "\n",
        "\n"
      ],
      "execution_count": null,
      "outputs": [
        {
          "output_type": "execute_result",
          "data": {
            "text/plain": [
              "16"
            ]
          },
          "metadata": {
            "tags": []
          },
          "execution_count": 79
        }
      ]
    },
    {
      "cell_type": "code",
      "metadata": {
        "id": "ihsbGBzd6A6b",
        "outputId": "6e80dfe2-7c39-4659-8a3b-30624290db9c"
      },
      "source": [
        "#Make a function above(x,n) which returns all elements x > n. By default x = 10. Use numpy arrays\n",
        "import numpy as np\n",
        "a_list = [1, 2, 3, 13, 46]\n",
        "an_array = np.array(a_list)\n",
        "print(an_array)\n",
        "\n",
        "def above (n, x=10):\n",
        "    arr_1=[]\n",
        "    for i in n:\n",
        "        if i<x:\n",
        "            arr_1.append(i)\n",
        "    return arr_1\n",
        "above(an_array)\n",
        "            "
      ],
      "execution_count": null,
      "outputs": [
        {
          "output_type": "stream",
          "text": [
            "[ 1  2  3 13 46]\n"
          ],
          "name": "stdout"
        },
        {
          "output_type": "execute_result",
          "data": {
            "text/plain": [
              "[1, 2, 3]"
            ]
          },
          "metadata": {
            "tags": []
          },
          "execution_count": 91
        }
      ]
    },
    {
      "cell_type": "code",
      "metadata": {
        "id": "DSyWvOF-6A6c",
        "outputId": "bbff734f-c75d-4e40-86b3-4764ebe4b8df"
      },
      "source": [
        "#Write a function my_ifelse(x, exp, n) which test array x with expression exp to number n. For instance, my_ifelse(x,'>=',10) returns all elements of array x which greater or equal 10. exp can be <, >, <=, >=, ==. If exp dont match these expression array x is retured\n",
        "import numpy as np\n",
        "a_list = [1, 2, 3, 13, 46]\n",
        "an_array = np.array(a_list)\n",
        "print(an_array)\n",
        "\n",
        "def my_ifelse(x,exp,n):\n",
        "    arr_1=[]\n",
        "    if exp == '<':\n",
        "        for i in x:\n",
        "            if i < n:\n",
        "                arr_1.append(i)\n",
        "    elif exp == '>':\n",
        "        for i in x:\n",
        "            if i > n:\n",
        "                arr_1.append(i)\n",
        "    elif exp == '<=':\n",
        "        for i in x:\n",
        "            if i <= n:\n",
        "                arr_1.append(i)\n",
        "    elif exp == '>=':\n",
        "        for i in x:\n",
        "            if i >= n:\n",
        "                arr_1.append(i)\n",
        "    elif exp == \"==\":\n",
        "        for i in x:\n",
        "            if i == n:\n",
        "                arr_1.append(i)\n",
        "    else: \n",
        "        arr_1=x\n",
        "    return arr_1\n",
        "my_ifelse (an_array,'>',5)\n",
        "\n",
        "\n",
        "\n",
        "\n",
        "\n"
      ],
      "execution_count": null,
      "outputs": [
        {
          "output_type": "stream",
          "text": [
            "[ 1  2  3 13 46]\n"
          ],
          "name": "stdout"
        },
        {
          "output_type": "execute_result",
          "data": {
            "text/plain": [
              "[13, 46]"
            ]
          },
          "metadata": {
            "tags": []
          },
          "execution_count": 92
        }
      ]
    },
    {
      "cell_type": "code",
      "metadata": {
        "id": "nvDYkaWC6A6c",
        "outputId": "5aa4dc2b-fc98-451a-9dc9-df0cf89d874e"
      },
      "source": [
        "#Make a function called counter that takes a string input_string and returns a dictionary of letter counts.\n",
        "def counter(input_string):\n",
        "    letters ={}\n",
        "    input_string=list(input_string)\n",
        "    for letter in input_string:\n",
        "        if letter in letters:\n",
        "            letters[letter]+=1\n",
        "        else: \n",
        "            letters [letter]=1\n",
        "    return letters\n",
        "counter ('the weather is good')\n",
        "        "
      ],
      "execution_count": null,
      "outputs": [
        {
          "output_type": "execute_result",
          "data": {
            "text/plain": [
              "{'t': 2,\n",
              " 'h': 2,\n",
              " 'e': 3,\n",
              " ' ': 3,\n",
              " 'w': 1,\n",
              " 'a': 1,\n",
              " 'r': 1,\n",
              " 'i': 1,\n",
              " 's': 1,\n",
              " 'g': 1,\n",
              " 'o': 2,\n",
              " 'd': 1}"
            ]
          },
          "metadata": {
            "tags": []
          },
          "execution_count": 98
        }
      ]
    },
    {
      "cell_type": "code",
      "metadata": {
        "id": "q4CSqKg96A6d",
        "outputId": "3034bf84-bf65-405d-9ff4-06c5b2d480fd"
      },
      "source": [
        "#From the function counter make function counter_sorted with second boolean argumens reverse that returns sorted letter counts. Order depends of the reverse argument. By default reverse = False\n",
        "\n",
        "def counter_sorted(input_string, reverse = False):\n",
        "    letters ={}\n",
        "    input_string = input_string.lower()\n",
        "    input_string = list(input_string)\n",
        "    for letter in input_string:\n",
        "        if letter.isalpha():\n",
        "            if letter in letters:\n",
        "                letters[letter] += 1\n",
        "            else:\n",
        "                letters[letter] = 1\n",
        "    sorted_letters = list(letters.keys())\n",
        "    sorted_letters.sort()\n",
        "    if reverse:\n",
        "        sorted_dict = {sorted_letters[len(sorted_letters) - (i+1)] : letters.get(sorted_letters[i]) for i in range (len(sorted_letters))}\n",
        "    else:\n",
        "        sorted_dict = {sorted_letters[i] : letters.get(sorted_letters[i]) for i in range (len(sorted_letters))}\n",
        "        \n",
        "    return sorted_dict\n",
        "counter_sorted ('aaaabbbbcd ff', False)\n",
        "   \n",
        "\n"
      ],
      "execution_count": null,
      "outputs": [
        {
          "output_type": "execute_result",
          "data": {
            "text/plain": [
              "{'a': 4, 'b': 4, 'c': 1, 'd': 1, 'f': 2}"
            ]
          },
          "metadata": {
            "tags": []
          },
          "execution_count": 36
        }
      ]
    },
    {
      "cell_type": "code",
      "metadata": {
        "id": "kuVAbiIO6A6d"
      },
      "source": [
        ""
      ],
      "execution_count": null,
      "outputs": []
    },
    {
      "cell_type": "code",
      "metadata": {
        "id": "GVpFK-V06A6e"
      },
      "source": [
        ""
      ],
      "execution_count": null,
      "outputs": []
    }
  ]
}